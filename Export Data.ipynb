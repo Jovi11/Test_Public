{
 "cells": [
  {
   "cell_type": "code",
   "execution_count": 1,
   "id": "1f847d35",
   "metadata": {},
   "outputs": [],
   "source": [
    "from sqlalchemy import create_engine\n",
    "from datetime import date\n",
    "import pandas as pd"
   ]
  },
  {
   "cell_type": "code",
   "execution_count": 2,
   "id": "73de7acb",
   "metadata": {},
   "outputs": [],
   "source": [
    "user = 'weiklikfhjocec'\n",
    "password = '5e1d65ca00df8aa20d5c17cff300e2e881042dc68df4d26fa898f84f833c9e87'\n",
    "host = 'ec2-18-210-64-223.compute-1.amazonaws.com'\n",
    "port = 5432\n",
    "database = 'd2cneae9rn5fru'"
   ]
  },
  {
   "cell_type": "code",
   "execution_count": 3,
   "id": "6a96b6c6",
   "metadata": {},
   "outputs": [],
   "source": [
    "def get_connection():\n",
    "    return create_engine(\n",
    "        url=\"postgresql://{0}:{1}@{2}:{3}/{4}\".format(\n",
    "            user, password, host, port, database\n",
    "        )\n",
    "    )\n",
    "\n",
    "def test_connection():\n",
    "    try:\n",
    "        # GET THE CONNECTION OBJECT (ENGINE) FOR THE DATABASE\n",
    "        engine = get_connection()\n",
    "        print(f\"Connection to the {host} for user {user} created successfully.\")\n",
    "    except Exception as ex:\n",
    "        print(\"Connection could not be made due to the following error: \\n\", ex)\n",
    "    \n",
    "    return engine\n",
    "\n",
    "def get_data(engine, sql):\n",
    "    dfs=[]\n",
    "    for chunk in pd.read_sql_query(sql,con=engine, chunksize=2):\n",
    "        dfs.append(chunk)\n",
    "    df = pd.concat(dfs, ignore_index=True)\n",
    "    return df"
   ]
  },
  {
   "cell_type": "code",
   "execution_count": 4,
   "id": "6e6fd089",
   "metadata": {},
   "outputs": [
    {
     "name": "stdout",
     "output_type": "stream",
     "text": [
      "Connection to the ec2-18-210-64-223.compute-1.amazonaws.com for user weiklikfhjocec created successfully.\n"
     ]
    }
   ],
   "source": [
    "myengine = test_connection()"
   ]
  },
  {
   "cell_type": "code",
   "execution_count": 5,
   "id": "12048b89",
   "metadata": {},
   "outputs": [],
   "source": [
    "patient_sql = '''SELECT * FROM patients'''\n",
    "enrollment_sql = '''SELECT * FROM enrollments'''\n",
    "discharge_sql = '''SELECT * FROM discharges OFFSET 2'''"
   ]
  },
  {
   "cell_type": "code",
   "execution_count": 6,
   "id": "e6919bae",
   "metadata": {},
   "outputs": [],
   "source": [
    "discharge_df = get_data(myengine, discharge_sql)\n",
    "enrollment_df = get_data(myengine, enrollment_sql)\n",
    "patient_df = get_data(myengine, patient_sql)"
   ]
  },
  {
   "cell_type": "markdown",
   "id": "a36e5810",
   "metadata": {},
   "source": [
    "## Write discharge, enrollment & patient data into an Excel file"
   ]
  },
  {
   "cell_type": "code",
   "execution_count": 9,
   "id": "5af88b14",
   "metadata": {},
   "outputs": [],
   "source": [
    "day = date.today().strftime(\"%d/%b/%Y\")\n",
    "filename = 'Data Collection Summary-'+day+'.xlsx'"
   ]
  },
  {
   "cell_type": "code",
   "execution_count": 11,
   "id": "22e0e14e",
   "metadata": {},
   "outputs": [],
   "source": [
    "patientID_df = patient_df[['id','patient_id']]"
   ]
  },
  {
   "cell_type": "code",
   "execution_count": 12,
   "id": "94944401",
   "metadata": {},
   "outputs": [],
   "source": [
    "enrollment_join = pd.merge(patientID_df, \n",
    "                      enrollment_df, \n",
    "                      left_on ='id',\n",
    "                      right_on='patient_id')\n",
    "\n",
    "discharge_join = pd.merge(patientID_df, \n",
    "                      discharge_df, \n",
    "                      left_on ='id',\n",
    "                      right_on='patient_id')"
   ]
  },
  {
   "cell_type": "code",
   "execution_count": 13,
   "id": "c6511e92",
   "metadata": {},
   "outputs": [],
   "source": [
    "discharge_join.drop(['id_x', 'id_y','patient_id_y'], axis=1, inplace=True)\n",
    "discharge_join.rename({'patient_id_x': 'Patient ID'}, axis=1, inplace=True)"
   ]
  },
  {
   "cell_type": "code",
   "execution_count": 14,
   "id": "5fc42de9",
   "metadata": {},
   "outputs": [],
   "source": [
    "enrollment_join.drop(['id_x','id_y','patient_id_y'], axis=1, inplace=True)\n",
    "enrollment_join.rename({'patient_id_x': 'Patient ID'}, axis=1, inplace=True)"
   ]
  },
  {
   "cell_type": "code",
   "execution_count": 21,
   "id": "a62828c2",
   "metadata": {},
   "outputs": [],
   "source": [
    "enrollment_join.sort_values(by = ['Patient ID','fever_day'], ascending=[True, True], inplace=True)"
   ]
  },
  {
   "cell_type": "code",
   "execution_count": 23,
   "id": "b50723cc",
   "metadata": {},
   "outputs": [],
   "source": [
    "patient_df.drop(['id'], axis=1, inplace=True)\n",
    "patient_df.rename({'patient_id': 'Patient ID'}, axis=1, inplace=True)"
   ]
  },
  {
   "cell_type": "code",
   "execution_count": 24,
   "id": "10e8c6c0",
   "metadata": {},
   "outputs": [],
   "source": [
    "patient_df['updatedAt'] = patient_df['updatedAt'].dt.tz_localize(None)\n",
    "enrollment_join['updatedAt'] = enrollment_join['updatedAt'].dt.tz_localize(None)\n",
    "discharge_join['updatedAt'] = discharge_join['updatedAt'].dt.tz_localize(None)\n",
    "discharge_join['datetime_death_transfer'] = discharge_join['datetime_death_transfer'].dt.tz_localize(None)\n",
    "discharge_join['ns1_date_1'] = discharge_join['ns1_date_1'].apply(lambda x:str(x))\n",
    "discharge_join['ns1_date_2'] = discharge_join['ns1_date_2'].apply(lambda x:str(x))\n",
    "discharge_join['igm_date_1'] = discharge_join['igm_date_1'].apply(lambda x:str(x))\n",
    "discharge_join['igm_date_2'] = discharge_join['igm_date_2'].apply(lambda x:str(x))\n",
    "discharge_join['igg_date_1'] = discharge_join['igg_date_1'].apply(lambda x:str(x))\n",
    "discharge_join['igg_date_2'] = discharge_join['igg_date_2'].apply(lambda x:str(x))\n",
    "discharge_join['chest_x_ray_datetime'] = discharge_join['chest_x_ray_datetime'].apply(lambda x:str(x))\n",
    "discharge_join['ultrasound_datetime'] = discharge_join['ultrasound_datetime'].apply(lambda x:str(x))"
   ]
  },
  {
   "cell_type": "code",
   "execution_count": 38,
   "id": "1a27b2e3",
   "metadata": {},
   "outputs": [],
   "source": [
    "day = date.today().strftime(\"%d/%b/%Y\")\n",
    "# filename = 'Data Collection Summary-'+day+'.xlsx'\n",
    "filename = 'Data_Collection_Summary.xlsx'\n",
    "with pd.ExcelWriter(filename) as writer:\n",
    "    patient_df.to_excel(writer, sheet_name=\"Admission Clerking Form\", index=False)\n",
    "    enrollment_join.to_excel(writer, sheet_name=\"Daily Review Form\", index=False)\n",
    "    discharge_join.to_excel(writer, sheet_name=\"Discharge Form\", index=False)"
   ]
  },
  {
   "cell_type": "code",
   "execution_count": null,
   "id": "ea7a0df6",
   "metadata": {},
   "outputs": [],
   "source": []
  },
  {
   "cell_type": "code",
   "execution_count": null,
   "id": "b7ec7e13",
   "metadata": {},
   "outputs": [],
   "source": []
  },
  {
   "cell_type": "code",
   "execution_count": null,
   "id": "e36b32ba",
   "metadata": {},
   "outputs": [],
   "source": []
  }
 ],
 "metadata": {
  "kernelspec": {
   "display_name": "Python 3 (ipykernel)",
   "language": "python",
   "name": "python3"
  },
  "language_info": {
   "codemirror_mode": {
    "name": "ipython",
    "version": 3
   },
   "file_extension": ".py",
   "mimetype": "text/x-python",
   "name": "python",
   "nbconvert_exporter": "python",
   "pygments_lexer": "ipython3",
   "version": "3.8.13"
  }
 },
 "nbformat": 4,
 "nbformat_minor": 5
}
